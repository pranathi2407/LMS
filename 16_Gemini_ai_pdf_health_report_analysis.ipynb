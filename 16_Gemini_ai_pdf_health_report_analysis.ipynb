{
  "nbformat": 4,
  "nbformat_minor": 0,
  "metadata": {
    "colab": {
      "provenance": [],
      "authorship_tag": "ABX9TyMdXosF/3b/Padj5g9qwSs6"
    },
    "kernelspec": {
      "name": "python3",
      "display_name": "Python 3"
    },
    "language_info": {
      "name": "python"
    }
  },
  "cells": [
    {
      "cell_type": "code",
      "execution_count": 1,
      "metadata": {
        "id": "q2hgzvAff9jS"
      },
      "outputs": [],
      "source": [
        "import google.generativeai as genai\n",
        "from google.colab import userdata\n",
        "GOOGLE_API_KEY = userdata.get('GOOGLE_API_KEY')\n",
        "genai.configure(api_key=GOOGLE_API_KEY)"
      ]
    },
    {
      "cell_type": "code",
      "source": [
        "pip install PyPDF2"
      ],
      "metadata": {
        "colab": {
          "base_uri": "https://localhost:8080/"
        },
        "id": "LCkcUVcngjfY",
        "outputId": "c2417740-e984-449b-dbe2-cd31eaa6cc72"
      },
      "execution_count": 2,
      "outputs": [
        {
          "output_type": "stream",
          "name": "stdout",
          "text": [
            "Collecting PyPDF2\n",
            "  Downloading pypdf2-3.0.1-py3-none-any.whl.metadata (6.8 kB)\n",
            "Downloading pypdf2-3.0.1-py3-none-any.whl (232 kB)\n",
            "\u001b[?25l   \u001b[90m━━━━━━━━━━━━━━━━━━━━━━━━━━━━━━━━━━━━━━━━\u001b[0m \u001b[32m0.0/232.6 kB\u001b[0m \u001b[31m?\u001b[0m eta \u001b[36m-:--:--\u001b[0m\r\u001b[2K   \u001b[90m━━━━━━━━━━━━━━━━━━━━━━━━━━━━━━━━━━━━━━━━\u001b[0m \u001b[32m232.6/232.6 kB\u001b[0m \u001b[31m12.9 MB/s\u001b[0m eta \u001b[36m0:00:00\u001b[0m\n",
            "\u001b[?25hInstalling collected packages: PyPDF2\n",
            "Successfully installed PyPDF2-3.0.1\n"
          ]
        }
      ]
    },
    {
      "cell_type": "code",
      "source": [
        "import PyPDF2\n",
        "def extract_text_from_pdf(pdf_path):\n",
        "  \"\"\"Extract text from a given health report PDF using PyPDF2.\"\"\"\n",
        "  text = \"\"\n",
        "  with open(pdf_path, 'rb') as file:\n",
        "    reader = PyPDF2.PdfReader(file)\n",
        "    for page in reader.pages:\n",
        "      text += page.extract_text()+\"\\n\"\n",
        "  return text"
      ],
      "metadata": {
        "id": "vx6-LPl3hFjP"
      },
      "execution_count": 3,
      "outputs": []
    },
    {
      "cell_type": "code",
      "source": [
        "def extract_health_insights(text):\n",
        "  \"\"\"Asks Gemini AI to extract key medical insights from the reports.\"\"\"\n",
        "  model = genai.GenerativeModel(\"gemini-1.5-flash\")\n",
        "  prompt = f\"Extract key insights from the following health report:\\n\\n{text}\"\n",
        "  response = model.generate_content(prompt)\n",
        "  return response.text\n",
        "pdf_file = \"health_report.pdf\"\n",
        "extracted_text = extract_text_from_pdf(pdf_file)\n",
        "insights = extract_health_insights(extracted_text)\n",
        "print(\"Key Insights:\\n\", insights)"
      ],
      "metadata": {
        "colab": {
          "base_uri": "https://localhost:8080/",
          "height": 488
        },
        "id": "evchtRlriKXD",
        "outputId": "c72f88c2-dd82-4de7-8031-a7d31db54ca3"
      },
      "execution_count": 4,
      "outputs": [
        {
          "output_type": "stream",
          "name": "stdout",
          "text": [
            "Key Insights:\n",
            " Mr. Kishan Goud's (MR2100003157) health report from February 1st, 2021, reveals the following key insights:\n",
            "\n",
            "**Infectious Disease Screen:**\n",
            "\n",
            "* **Widal Test:** Elevated titers for *Salmonella Typhi* \"O\" (1:160) and \"H\" (1:80) suggest a possible past or present typhoid infection.  The reference range is 1:20, meaning the results are significantly above the normal range.  *Salmonella Paratyphi* \"A\" and \"B\" titers were within the normal range.\n",
            "* **Dengue Serology:** Negative results for Dengue NS1 antigen, IgG, and IgM antibodies indicate no current or recent dengue fever infection.\n",
            "* **Malaria Test:** Negative results for both *Plasmodium falciparum* and *Plasmodium vivax* rule out malaria.\n",
            "\n",
            "**Hematology:**\n",
            "\n",
            "* **Complete Blood Picture (CBC):**  All values (Hemoglobin, RBC, WBC, Platelets, PCV, Differential Count) are within the normal ranges, except for a slightly elevated ESR (Erythrocyte Sedimentation Rate) at 26 mm/hr in the first hour and 52 mm/hr in the second hour. Elevated ESR can indicate inflammation.\n",
            "* **HbA1c:**  5.4%, indicating good blood glucose control.  This is within the normal non-diabetic range.\n",
            "\n",
            "**Biochemistry:**\n",
            "\n",
            "* **Liver Function Tests (LFTs):** All liver enzymes (bilirubin, alkaline phosphatase, SGOT, SGPT) and proteins (total protein, albumin, globulin) are within the normal ranges.\n",
            "* **Serum Electrolytes:** Sodium is slightly low (122 mmol/l; reference range 135-146 mmol/l), while potassium and chloride are within normal ranges.\n",
            "* **Serum Creatinine:**  Within the normal range (0.8 mg/dl), indicating normal kidney function.\n",
            "* **Random Blood Glucose:**  Not specified in the provided text.\n",
            "\n",
            "\n",
            "**Overall:**\n",
            "\n",
            "The most significant finding is the elevated Widal test suggesting possible typhoid fever.  The slightly low sodium and elevated ESR warrant further investigation and clinical correlation by the attending physician (Dr. Krishna Prasad).  The other tests show no other major abnormalities.  The complete absence of a Random Blood Glucose value is unusual and would likely be addressed in a full clinical report.\n",
            "\n"
          ]
        }
      ]
    },
    {
      "cell_type": "code",
      "source": [
        "def summarize_health_report(text):\n",
        "  model=genai.GenerativeModel(\"gemini-1.5-flash\")\n",
        "  prompt=f\"summarize the following health report in a concise manner:\\n\\n{text}\"\n",
        "  response=model.generate_content(prompt)\n",
        "  return response.text\n",
        "summary=summarize_health_report(extracted_text)\n",
        "print(\"Summary:\\n\",summary)"
      ],
      "metadata": {
        "colab": {
          "base_uri": "https://localhost:8080/",
          "height": 89
        },
        "id": "5AbS5tjGj5eP",
        "outputId": "8aef817d-8e40-4036-bdf8-0c329f839058"
      },
      "execution_count": 5,
      "outputs": [
        {
          "output_type": "stream",
          "name": "stdout",
          "text": [
            "Summary:\n",
            " Mr. Kishan Goud's (MR2100003157) blood tests on 01/02/2021 showed: elevated ESR (26/52 mm/hr), slightly low serum sodium (122 mmol/l), and Widal test results suggestive of past exposure to *Salmonella Typhi* (O: 1:160, H: 1:80).  All other tests, including dengue serology, malaria, complete blood count (CBC), HbA1c, liver function tests, and serum electrolytes (except sodium) were within normal ranges.\n",
            "\n"
          ]
        }
      ]
    },
    {
      "cell_type": "code",
      "source": [
        "def detect_abnormalities(text):\n",
        "  model=genai.GenerativeModel(\"gemini-1.5-flash\")\n",
        "  prompt=f\"analyze the lab test results in th following health report and highlight any abnormal values:\\n\\n{text}\"\n",
        "  response=model.generate_content(prompt)\n",
        "  return response.text\n",
        "abnormalities=detect_abnormalities(extracted_text)\n",
        "print(\"potential abnormalities\",abnormalities)"
      ],
      "metadata": {
        "colab": {
          "base_uri": "https://localhost:8080/",
          "height": 263
        },
        "id": "odaelxJvmb2l",
        "outputId": "d3666d45-9974-4c8d-f344-bbb6181a5337"
      },
      "execution_count": 6,
      "outputs": [
        {
          "output_type": "stream",
          "name": "stdout",
          "text": [
            "potential abnormalities The following lab results from Mr. Kishan Goud's report show values outside the reference ranges:\n",
            "\n",
            "* **Widal Test:**  S. Typhi \"O\" (1:160) and S. Typhi \"H\" (1:80) are both significantly higher than the reference range of 1:20. This suggests a possible past or present infection with *Salmonella Typhi*, the causative agent of typhoid fever.  Further investigation and clinical correlation are needed.\n",
            "\n",
            "* **Erythrocyte Sedimentation Rate (ESR):**  Both the 1st hour (26 mm/hr) and 2nd hour (52 mm/hr) ESR values are significantly elevated above the reference range of 0-8 mm/hr for the first hour. This indicates inflammation or infection somewhere in the body.\n",
            "\n",
            "* **Serum Sodium:**  The serum sodium level (122 mmol/l) is below the reference range of 135-146 mmol/l. This is considered hyponatremia, indicating low sodium levels in the blood.  This could be due to various factors and requires further investigation.\n",
            "\n",
            "* **Serum Chloride:** The serum chloride level (97 mmol/l) is slightly below the reference range of 98-107 mmol/l. While only slightly low, this should be considered in conjunction with the hyponatremia.\n",
            "\n",
            "\n",
            "**All other results are within the normal reference ranges.**  However, the abnormalities highlighted above warrant further medical evaluation to determine the underlying cause.  The elevated ESR, combined with the positive Widal test, suggests a strong possibility of infection.  The hyponatremia needs to be investigated separately.  The physician should correlate these findings with the patient's clinical presentation to make a diagnosis and formulate a treatment plan.\n",
            "\n"
          ]
        }
      ]
    },
    {
      "cell_type": "code",
      "source": [
        "def explain_medical_terms(text):\n",
        "  model=genai.GenerativeModel(\"gemini-1.5-flash\")\n",
        "  prompt=f\"explain th medical terms in the following health report in simple language:\\n\\n{text}\"\n",
        "  response=model.generate_content(prompt)\n",
        "  return response.text\n",
        "explaination=explain_medical_terms(extracted_text)\n",
        "print(\"simplifies explaination:\\n\",explaination)"
      ],
      "metadata": {
        "colab": {
          "base_uri": "https://localhost:8080/",
          "height": 1000
        },
        "id": "5fOkDHXYocTU",
        "outputId": "6901127f-a6a6-415b-85ca-b49502f1aa16"
      },
      "execution_count": 7,
      "outputs": [
        {
          "output_type": "stream",
          "name": "stdout",
          "text": [
            "simplifies explaination:\n",
            " This report shows the results of several blood tests performed on Mr. Kishan Goud. Let's break down the medical terms:\n",
            "\n",
            "**1. WIDAL Test:** This test checks for antibodies against *Salmonella Typhi* (causes typhoid fever) and *Salmonella Paratyphi* (causes paratyphoid fever).  The numbers (e.g., 1:160) represent the dilution of the sample at which antibodies are still detectable.  Higher numbers suggest a higher likelihood of infection.\n",
            "\n",
            "* **S. Typhi \"O\" 1:160:**  Antibodies against the \"O\" antigen of *Salmonella Typhi* are present at a relatively high dilution, suggesting a possible past or present typhoid infection.\n",
            "* **S. Typhi \"H\" 1:80:** Antibodies against the \"H\" antigen of *Salmonella Typhi* are present at a moderate dilution.\n",
            "* **S. Paratyphi \"AH\" 1:20:** Antibodies against the \"AH\" antigen of *Salmonella Paratyphi* are present at the lowest dilution tested; this is within the normal range and doesn't necessarily indicate infection.\n",
            "* **S. Paratyphi \"BH\" 1:20:**  Similar to above; within the normal range.\n",
            "\n",
            "**2. Dengue Serology:** This tests for dengue fever.\n",
            "\n",
            "* **Dengue NS1 Antigen:** Negative – No dengue virus protein was detected.\n",
            "* **Dengue IgG:** Negative – No IgG antibodies (antibodies that indicate past infection) were detected.\n",
            "* **Dengue IgM:** Negative – No IgM antibodies (antibodies that indicate a recent infection) were detected.\n",
            "\n",
            "\n",
            "**3. Erythrocyte Sedimentation Rate (ESR):** This measures how quickly red blood cells settle in a test tube.  A higher rate can indicate inflammation in the body.\n",
            "\n",
            "* **ESR 1st Hour 26 mm/hr:**  Slightly elevated; outside the normal range (0-8 mm/hr).\n",
            "* **ESR 2nd Hour 52 mm/hr:** Further elevated.  The combination of these results suggests some level of inflammation is present.\n",
            "\n",
            "**4. Rapid Malaria Test:** This test screens for malaria parasites.\n",
            "\n",
            "* **P.V Negative:** Negative for *Plasmodium vivax* malaria.\n",
            "* **P.F Negative:** Negative for *Plasmodium falciparum* malaria.\n",
            "\n",
            "\n",
            "**5. Complete Blood Picture (CBC):** This is a comprehensive test that evaluates different components of the blood.\n",
            "\n",
            "* **Hemoglobin (Hb):** 13.6 gms% (normal range 13-17):  The amount of oxygen-carrying protein in the blood is within the normal range.\n",
            "* **Red Blood Cells (RBC):** 4.3 mill/cumm (normal range 4.5-5.5): Slightly low, but generally within a clinically acceptable range.\n",
            "* **White Blood Cells (WBC):** 7,200 cells/cumm (normal range 4000-10000): Within the normal range.\n",
            "* **Platelet Count:** 2.0 lakhs/cumm (normal range 1.5-4.5): Within the normal range.\n",
            "* **Packed Cell Volume (PCV):** 40.5% (normal range 40-50): Within the normal range.\n",
            "* **Differential Count:** This breaks down the types of white blood cells. All are within the normal range.\n",
            "* **Peripheral Blood Smear:** A microscopic examination of the blood; this notes that red blood cells and white blood cells appear normal.\n",
            "\n",
            "**6. HbA1c:** This test measures average blood sugar levels over the past 2-3 months.\n",
            "\n",
            "* **HbA1c 5.4%:** Within the normal, non-diabetic range (4-6%).\n",
            "\n",
            "\n",
            "**7. Serum Creatinine:** This measures kidney function.\n",
            "\n",
            "* **Serum Creatinine 0.8 mg/dl:**  Within the normal range (0.6-1.25 mg/dl).\n",
            "\n",
            "\n",
            "**8. Random Blood Glucose:** This measures blood sugar at a random time.\n",
            "\n",
            "* **Random Blood Glucose:** Not provided as a value but it falls within the normal range, (60-170 mg/dl).\n",
            "\n",
            "\n",
            "**9. Liver Function Test (LFT):**  These tests assess liver health.  All results are within the normal range.\n",
            "\n",
            "* **Total Bilirubin, Direct Bilirubin, Indirect Bilirubin:**  All bilirubin levels are within normal limits, indicating no significant liver damage.\n",
            "* **Alkaline Phosphatase (ALP), Aspartate Aminotransferase (SGOT), Alanine Aminotransferase (SGPT):**  All liver enzymes are within normal range.\n",
            "* **Total Protein, Albumin, Globulin, A/G Ratio:** All values related to proteins in the blood are normal.\n",
            "\n",
            "**10. Serum Electrolytes:** These tests measure the levels of minerals (electrolytes) in the blood.\n",
            "\n",
            "* **Serum Sodium:** 122 mmol/l, this is slightly below the normal range (135-146 mmol/l).\n",
            "* **Serum Potassium:** 3.5 mmol/l (normal range 3.5-5.5): Within the normal range.\n",
            "* **Serum Chloride:** 97 mmol/l, this is slightly below the normal range (98-107 mmol/l).\n",
            "\n",
            "\n",
            "**Overall:**  While some values are slightly outside the normal range (ESR and serum sodium and chloride), many results are within normal limits. The slightly elevated ESR suggests some inflammation may be present, warranting further investigation by Mr. Kishan Goud's physician.  The slightly low serum sodium and chloride also needs physician evaluation. The Widal test results hint at possible past exposure to typhoid or paratyphoid, but this needs to be interpreted in the context of the patient's clinical presentation.  The negative dengue and malaria tests are reassuring.  This report should be reviewed with a physician to determine the overall health status and to decide any necessary follow up.\n",
            "\n"
          ]
        }
      ]
    },
    {
      "cell_type": "code",
      "source": [
        "def ask_gemini_about_report(text,question):\n",
        "  model=genai.GenerativeModel(\"gemini-1.5-flash\")\n",
        "  prompt=f\"the following is a health report:\\n\\n{text}\\n\\nAnswer the following question based on the report:\\n{question}\"\n",
        "  response=model.generate_content(prompt)\n",
        "  return response.text\n",
        "question=\"what is the patients diagnosis\"\n",
        "answer=ask_gemini_about_report(extracted_text,question)\n",
        "print(\"answer:\\n\",answer)"
      ],
      "metadata": {
        "colab": {
          "base_uri": "https://localhost:8080/",
          "height": 89
        },
        "id": "zPGYXbLZqAa-",
        "outputId": "971fff17-6f4d-4183-bd22-00f563a863da"
      },
      "execution_count": 8,
      "outputs": [
        {
          "output_type": "stream",
          "name": "stdout",
          "text": [
            "answer:\n",
            " The provided lab report does not provide a diagnosis.  It only shows the results of various tests.  Some results are outside the normal range (e.g., elevated ESR), but this alone is insufficient to make a diagnosis.  A doctor must interpret these results in conjunction with the patient's symptoms, medical history, and physical examination to determine a diagnosis.\n",
            "\n"
          ]
        }
      ]
    },
    {
      "cell_type": "code",
      "source": [],
      "metadata": {
        "id": "d5PHyBOmr7Ld"
      },
      "execution_count": null,
      "outputs": []
    }
  ]
}