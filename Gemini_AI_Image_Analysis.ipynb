{
  "nbformat": 4,
  "nbformat_minor": 0,
  "metadata": {
    "colab": {
      "provenance": [],
      "authorship_tag": "ABX9TyOh+geyTdiRhjHffFYBy6Xo"
    },
    "kernelspec": {
      "name": "python3",
      "display_name": "Python 3"
    },
    "language_info": {
      "name": "python"
    }
  },
  "cells": [
    {
      "cell_type": "code",
      "execution_count": 1,
      "metadata": {
        "id": "7h8FOL5v-Wun"
      },
      "outputs": [],
      "source": [
        "from google.colab import userdata\n",
        "import google.generativeai as genai\n",
        "\n",
        "GOOGLE_API_KEY = userdata.get('GOOGLE_API_KEY')\n",
        "genai.configure(api_key=GOOGLE_API_KEY)"
      ]
    },
    {
      "cell_type": "code",
      "source": [
        "import pathlib\n",
        "import textwrap\n",
        "from IPython.display import display, Markdown\n",
        "def to_markdown(text):\n",
        "  text = text.replace('.',' *')\n",
        "  return Markdown(textwrap.indent(text,'> ', predicate=lambda line: True))"
      ],
      "metadata": {
        "id": "00XaVseu-jZJ"
      },
      "execution_count": 2,
      "outputs": []
    },
    {
      "cell_type": "code",
      "source": [
        "import PIL.Image\n",
        "import PIL.Image\n",
        "img = PIL.Image.open('image1.jpg')\n",
        "model = genai.GenerativeModel('gemini-1.5-flash')\n",
        "response = model.generate_content([\"Write a short, engaging blog post based on this picture.\\nIt should include a description of the meal in the photo and talk about my journey meal prepping.\", img],\n",
        "stream=True)\n",
        "response.resolve()\n"
      ],
      "metadata": {
        "id": "eOArHJ-q_YN7"
      },
      "execution_count": 4,
      "outputs": []
    },
    {
      "cell_type": "code",
      "source": [
        "to_markdown(response.text)"
      ],
      "metadata": {
        "colab": {
          "base_uri": "https://localhost:8080/",
          "height": 330
        },
        "id": "M6k6-0_KBRCf",
        "outputId": "31b7a150-67d7-48b6-8bd1-4967618e6b13"
      },
      "execution_count": 5,
      "outputs": [
        {
          "output_type": "execute_result",
          "data": {
            "text/plain": [
              "<IPython.core.display.Markdown object>"
            ],
            "text/markdown": "> ## From Chaos to Calm: My Meal Prep Journey\n> \n> Let's be honest, adulting is hard *  Juggling work, social life, and…well, *life*, often leaves little time for healthy eating *  That's where meal prepping comes in *  And this, my friends, is the glorious result *\n> \n> The photo shows two glass containers brimming with deliciousness *  Each one is a perfectly portioned meal: fluffy white rice forms the base, topped with tender teriyaki chicken, vibrant orange and red peppers, and a generous helping of steamed broccoli *  It's healthy, it's flavorful, and it's *effortless* (once you've done the prepping, of course!) *\n> \n> My journey with meal prepping hasn't been a straight path * Initially, I envisioned perfectly Instagrammable creations, only to end up with a fridge full of sad-looking containers and a mountain of wasted ingredients *  I learned the hard way that success lies in simplicity and practicality *  \n> \n> My current strategy?  I choose a few versatile protein and vegetable combinations (chicken and broccoli are a winner!), prepare them in bulk on a Sunday, and portion them out into these handy containers *  This system helps me avoid those \"I'm too tired to cook\" moments, ensures I'm eating nutritious meals, and saves me a ton of time during the week *\n> \n> The best part?  Knowing I have healthy, delicious meals ready to go eliminates the stress of daily food decisions, leaving me feeling more energized and focused *  It might seem daunting at first, but even a little meal prep makes a big difference * So, ditch the takeout menus and embrace the calm of a prepped fridge *  Your future self will thank you!\n"
          },
          "metadata": {},
          "execution_count": 5
        }
      ]
    },
    {
      "cell_type": "code",
      "source": [
        "response = model.generate_content([\"Generate an accurate caption for this image.\", img])\n",
        "print(response.text)"
      ],
      "metadata": {
        "colab": {
          "base_uri": "https://localhost:8080/",
          "height": 332
        },
        "id": "Zq_7NlABC2yT",
        "outputId": "8553fbf7-10cf-4818-9cfb-6c5f03d096a9"
      },
      "execution_count": 6,
      "outputs": [
        {
          "output_type": "stream",
          "name": "stdout",
          "text": [
            "Here's a caption for the image:\n",
            "\n",
            "**Option 1 (Concise):**\n",
            "\n",
            "> Healthy and delicious meal prep!  Chicken and broccoli with rice.\n",
            "\n",
            "**Option 2 (More descriptive):**\n",
            "\n",
            "> Two containers of tasty and nutritious meal prep.  Each one includes teriyaki chicken, steamed rice, broccoli florets, and sliced carrots. Perfect for a quick and healthy lunch or dinner.\n",
            "\n",
            "**Option 3 (Focus on convenience):**\n",
            "\n",
            "> Easy weeknight meals made simple.  These prepped containers of chicken, broccoli, carrots and rice are ready to grab and go! #mealprep #healthyfood #easyrecipes\n",
            "\n",
            "\n",
            "Choose the option that best suits your needs and intended audience.\n",
            "\n"
          ]
        }
      ]
    },
    {
      "cell_type": "code",
      "source": [
        "from PIL import Image\n",
        "image_path = \"girl.jpg\"\n",
        "image = Image.open(image_path)\n",
        "response = model.generate_content([\"Describe this image in detail.\",image])\n",
        "print(response.text)"
      ],
      "metadata": {
        "colab": {
          "base_uri": "https://localhost:8080/",
          "height": 245
        },
        "id": "6VepvqgYDNX0",
        "outputId": "81194145-079d-4373-97bb-aaf7e4eb688b"
      },
      "execution_count": 7,
      "outputs": [
        {
          "output_type": "stream",
          "name": "stdout",
          "text": [
            "Here's a description of the image:\n",
            "\n",
            "Close-up view of a woman with shoulder-length, curly brown hair. \n",
            "\n",
            "\n",
            "She's smiling and gesturing with her right index finger, pointing to the left of the frame. She appears to be making a suggestion or indicating something.\n",
            "\n",
            "\n",
            "She is wearing a teal blue three-quarter sleeve top or tunic with a subtle, gold-colored pattern on it. The top has a simple, modest neckline. \n",
            "\n",
            "\n",
            "The background is a plain, bright white, which keeps the focus entirely on the woman. The overall lighting is soft and even. The woman's expression is friendly and approachable.\n"
          ]
        }
      ]
    },
    {
      "cell_type": "code",
      "source": [
        "response = model.generate_content([\"What emotions can you detect in this image?\", image])\n",
        "print(response.text)"
      ],
      "metadata": {
        "colab": {
          "base_uri": "https://localhost:8080/",
          "height": 72
        },
        "id": "YG5r-4afFWJ8",
        "outputId": "34b6fb6f-789f-4fc7-80fa-dfedd0653cd4"
      },
      "execution_count": 8,
      "outputs": [
        {
          "output_type": "stream",
          "name": "stdout",
          "text": [
            "The woman in the image appears to be displaying happiness and confidence.  Her smile and the gesture of pointing suggest she is also possibly conveying helpfulness or excitement about something.\n",
            "\n"
          ]
        }
      ]
    },
    {
      "cell_type": "code",
      "source": [
        "image_path = \"logo1.jpg\"\n",
        "image = Image.open(image_path)\n",
        "response = model.generate_content([\"Identify the brand or company associated with this logo.\",image])\n",
        "print(response.text)"
      ],
      "metadata": {
        "id": "NqS6kQ3RGCXD",
        "colab": {
          "base_uri": "https://localhost:8080/",
          "height": 52
        },
        "outputId": "fcf6f147-d1aa-4e57-9021-1751377eb9ac"
      },
      "execution_count": 9,
      "outputs": [
        {
          "output_type": "stream",
          "name": "stdout",
          "text": [
            "That's the logo for **Amazon**.\n",
            "\n"
          ]
        }
      ]
    },
    {
      "cell_type": "code",
      "source": [
        "image_path = \"product.jpg\"\n",
        "image = Image.open(image_path)\n",
        "response = model.generate_content([\"What product is shown in this image.\",image])\n",
        "print(response.text)"
      ],
      "metadata": {
        "colab": {
          "base_uri": "https://localhost:8080/",
          "height": 34
        },
        "id": "R6Db0KvhsbXa",
        "outputId": "ec491197-df0c-4494-ba45-f1b3ee3d2eae"
      },
      "execution_count": 10,
      "outputs": [
        {
          "output_type": "stream",
          "name": "stdout",
          "text": [
            "That's a pair of black over-ear headphones.\n"
          ]
        }
      ]
    },
    {
      "cell_type": "code",
      "source": [
        "response = model.generate_content([\"Suggest similar products to this one.\", image])\n",
        "print(response.text)"
      ],
      "metadata": {
        "colab": {
          "base_uri": "https://localhost:8080/",
          "height": 419
        },
        "id": "cclPhSAYtln1",
        "outputId": "7b82bfa4-3b16-40e6-e76d-14dbaa14ca34"
      },
      "execution_count": 11,
      "outputs": [
        {
          "output_type": "stream",
          "name": "stdout",
          "text": [
            "Here are some similar products to the pictured black over-ear headphones.  To give you the best recommendations, I need more information about what aspects of these headphones are most important to you.  However, I can suggest some general categories and popular brands:\n",
            "\n",
            "**Similar in Style and Features:**\n",
            "\n",
            "* **Other Over-Ear Headphones:**  Look for other over-ear, closed-back headphones.  Closed-back means the earcups are sealed, blocking out external noise better than open-back designs. Many brands offer this style, including:\n",
            "    * **Sony:**  Known for excellent noise cancellation and sound quality.  Their WH-1000XM series is highly regarded.\n",
            "    * **Bose:**  Also famous for noise cancellation and comfortable designs.  Their QuietComfort series is a popular choice.\n",
            "    * **Audio-Technica:**  A brand that offers a wide range of headphones at different price points, with a focus on sound quality.\n",
            "    * **Sennheiser:**  Another high-quality brand known for detailed and accurate sound reproduction.\n",
            "    * **JBL:**  Offers more affordable options with decent sound and features.\n",
            "\n",
            "**To narrow down the suggestions, consider these factors:**\n",
            "\n",
            "* **Budget:**  Headphones range from under $50 to over $500.\n",
            "* **Noise Cancellation:**  Do you need noise-canceling technology?\n",
            "* **Sound Quality:**  Do you prioritize bass, treble, or a balanced sound?\n",
            "* **Comfort:**  How long do you plan to wear the headphones for?\n",
            "* **Features:**  Are you interested in features like Bluetooth connectivity, a microphone, or app integration?\n",
            "\n",
            "\n",
            "Once you provide more detail about your preferences, I can give you more specific and helpful recommendations.\n",
            "\n"
          ]
        }
      ]
    },
    {
      "cell_type": "code",
      "source": [
        "image_path = \"invoice.jpg\"\n",
        "image = Image.open(image_path)\n",
        "response = model.generate_content([\"Extract the price from this image.\",image])\n",
        "print(response.text)"
      ],
      "metadata": {
        "colab": {
          "base_uri": "https://localhost:8080/",
          "height": 34
        },
        "id": "ZCV9K-J7tzGF",
        "outputId": "decaa1c3-9945-45f5-bf1e-7d6c2a2160fd"
      },
      "execution_count": 13,
      "outputs": [
        {
          "output_type": "stream",
          "name": "stdout",
          "text": [
            "The price of each item is $10.00.  The sub-total is $100.00, and the grand total, including 10% tax, is also $100.00.\n"
          ]
        }
      ]
    },
    {
      "cell_type": "code",
      "source": [
        "response = model.generate_content([\"Extract the price, currency, and any discounts from this image.\",image])\n",
        "print(response.text)"
      ],
      "metadata": {
        "colab": {
          "base_uri": "https://localhost:8080/",
          "height": 104
        },
        "id": "ZY36SUfkvCOZ",
        "outputId": "1dceef02-6841-44f1-9482-2ccc75e232cb"
      },
      "execution_count": 14,
      "outputs": [
        {
          "output_type": "stream",
          "name": "stdout",
          "text": [
            "Here's the extracted information from the image:\n",
            "\n",
            "* **Price:** $10.00 (per item)\n",
            "* **Currency:** USD ($)\n",
            "* **Discounts:** None explicitly stated.  There's a 10% tax added, but no discounts are applied before the tax is calculated.\n"
          ]
        }
      ]
    },
    {
      "cell_type": "code",
      "source": [
        "image_path = \"bicycle.jpg\"\n",
        "image = Image.open(image_path)\n",
        "response = model.generate_content([\"Identify all objects in this image.\",image])\n",
        "print(response.text)"
      ],
      "metadata": {
        "colab": {
          "base_uri": "https://localhost:8080/",
          "height": 211
        },
        "id": "DEimpRTUv1Sx",
        "outputId": "be51ee0e-3e3b-49c6-ef62-1795cb5d4593"
      },
      "execution_count": 16,
      "outputs": [
        {
          "output_type": "stream",
          "name": "stdout",
          "text": [
            "Here's a list of the objects I can identify in the image:\n",
            "\n",
            "* **Two bicycles:** One is predominantly black and yellow, the other is white. Both appear to be adult-sized hybrid or city bikes.\n",
            "* **Two men:**  They are riding the bicycles. One is wearing a blue shirt and camouflage shorts; the other is wearing a gray long-sleeved shirt, jeans, and a red cap.\n",
            "* **A motorcycle:**  Partially visible in the background, parked near a building.\n",
            "* **A building:** A building with a roller shutter door, windows, and what seems to be a small shop.\n",
            "* **A man in the background:** Sitting inside the building, seems to be observing the cyclists.\n",
            "* **Chairs:** Two chairs are visible inside the building.\n",
            "* **Street:** A wet street surface.\n",
            "* **Vegetation:** Some grass is visible along the side of the street.\n"
          ]
        }
      ]
    },
    {
      "cell_type": "code",
      "source": [
        "def extract_vedio_insights(text):\n",
        "  \"\"\"Extracts key insights from Youtube vedio transcript.\"\"\"\n",
        "  model=genai.GenerativeModel(\"gemini-1.5-flash\")\n",
        "  prompt=f\"Extract the key takeaways and insights from this Youtube vedio:\\n\\n{text}\"\n",
        "  response=model.generate_content(prompt)\n",
        "  return response.text\n",
        "insights=extract_vedio_insights(vedio_transcript)\n",
        "print(\"Insights:\\n\",insights)"
      ],
      "metadata": {
        "id": "RbmhcmTT3g7K"
      },
      "execution_count": null,
      "outputs": []
    }
  ]
}