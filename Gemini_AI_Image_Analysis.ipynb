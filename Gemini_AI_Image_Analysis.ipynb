{
  "nbformat": 4,
  "nbformat_minor": 0,
  "metadata": {
    "colab": {
      "provenance": []
    },
    "kernelspec": {
      "name": "python3",
      "display_name": "Python 3"
    },
    "language_info": {
      "name": "python"
    }
  },
  "cells": [
    {
      "cell_type": "code",
      "execution_count": 2,
      "metadata": {
        "id": "7h8FOL5v-Wun"
      },
      "outputs": [],
      "source": [
        "from google.colab import userdata\n",
        "import google.generativeai as genai\n",
        "\n",
        "GOOGLE_API_KEY = userdata.get('GOOGLE_API_KEY')\n",
        "genai.configure(api_key=GOOGLE_API_KEY)"
      ]
    },
    {
      "cell_type": "code",
      "source": [
        "import pathlib\n",
        "import textwrap\n",
        "from IPython.display import display, Markdown\n",
        "def to_markdown(text):\n",
        "  text = text.replace('.',' *')\n",
        "  return Markdown(textwrap.indent(text,'> ', predicate=lambda line: True))"
      ],
      "metadata": {
        "id": "00XaVseu-jZJ"
      },
      "execution_count": 6,
      "outputs": []
    },
    {
      "cell_type": "code",
      "source": [
        "import PIL.Image\n",
        "import PIL.Image\n",
        "img = PIL.Image.open('image1.jpg')\n",
        "model = genai.GenerativeModel('gemini-1.5-flash')\n",
        "response = model.generate_content([\"Write a short, engaging blog post based on this picture.\\nIt should include a description of the meal in the photo and talk about my journey meal prepping.\", img],\n",
        "stream=True)\n",
        "response.resolve()\n"
      ],
      "metadata": {
        "id": "eOArHJ-q_YN7"
      },
      "execution_count": 9,
      "outputs": []
    },
    {
      "cell_type": "code",
      "source": [
        "to_markdown(response.text)"
      ],
      "metadata": {
        "colab": {
          "base_uri": "https://localhost:8080/",
          "height": 495
        },
        "id": "M6k6-0_KBRCf",
        "outputId": "3506c5d5-2f1e-4d46-d0c8-d83ab5effcb9"
      },
      "execution_count": 10,
      "outputs": [
        {
          "output_type": "execute_result",
          "data": {
            "text/plain": [
              "<IPython.core.display.Markdown object>"
            ],
            "text/markdown": "> ## My Meal Prep Journey: From Chaos to Color-Coded Containers!\n> \n> Let's be honest, weekday lunches used to be a sad affair *  Grab-and-go, questionable choices, and that nagging feeling of regret halfway through *  But no more!  This is the glorious result of my new meal prep routine, and I'm officially hooked *\n> \n> Check out these beauties!  Two perfectly portioned containers filled with a delicious teriyaki chicken and veggie bowl *  Fluffy white rice forms the base, topped with tender chicken marinated in a savory teriyaki sauce *  The vibrant colors of steamed broccoli and perfectly roasted carrots add a burst of freshness and nutrition to each bite *  It’s satisfying, healthy, and most importantly, it’s *ready* when I am *\n> \n> My journey to this meal prep nirvana wasn't exactly smooth sailing *  Initially, I was overwhelmed *  Too many recipes, too little time, and a tendency to overestimate my weekend energy levels!  I started small – choosing just one or two meals to prep each week *  I also focused on simple, adaptable recipes that could be easily scaled up or down *\n> \n> The key to my success?  Finding recipes I actually *enjoy* *  If I’m not excited about the food I’m preparing, it’s far less likely to get eaten *  Organization also played a huge role *  Using clear containers, like these, makes portioning and grabbing a lunch a breeze *  And let's be honest, the aesthetically pleasing arrangement is a nice bonus!\n> \n> So, if you're looking to improve your weekday lunches (or dinners!), start small, choose recipes you love, and don't be afraid to experiment *  The payoff—a healthier, tastier, and less stressful week—is definitely worth the effort!  What are your favorite meal prep tips? Share them in the comments below!\n"
          },
          "metadata": {},
          "execution_count": 10
        }
      ]
    },
    {
      "cell_type": "code",
      "source": [
        "response = model.generate_content([\"Generate an accurate caption for this image.\", img])\n",
        "print(response.text)"
      ],
      "metadata": {
        "colab": {
          "base_uri": "https://localhost:8080/",
          "height": 436
        },
        "id": "Zq_7NlABC2yT",
        "outputId": "87341032-f9e0-40c8-90de-250bebad2f0a"
      },
      "execution_count": 11,
      "outputs": [
        {
          "output_type": "stream",
          "name": "stdout",
          "text": [
            "Here are a few caption options for the image:\n",
            "\n",
            "**Option 1 (Simple & Descriptive):**\n",
            "\n",
            "> Healthy and delicious meal prep!  Chicken and broccoli with rice and carrots.\n",
            "\n",
            "\n",
            "**Option 2 (More Engaging):**\n",
            "\n",
            "> Lunch goals!  These chicken and veggie bowls are packed with flavor and ready to go. #mealprep #healthyfood #lunchideas #chickendinner\n",
            "\n",
            "\n",
            "**Option 3 (Focus on Convenience):**\n",
            "\n",
            "> Easy weeknight dinners?  Check!  These prepped meals make healthy eating a breeze. #mealprepsunday #healthylifestyle #convenientmeals #easyrecipe\n",
            "\n",
            "\n",
            "**Option 4 (Question to Engage Audience):**\n",
            "\n",
            "> What's your favorite meal prep recipe?  These chicken and veggie bowls are definitely up there!  #mealprepinspiration #healthyliving #foodie #instafood\n",
            "\n",
            "Choose the caption that best suits your intended audience and platform.\n",
            "\n"
          ]
        }
      ]
    },
    {
      "cell_type": "code",
      "source": [
        "from PIL import Image\n",
        "image_path = \"girl.jpg\"\n",
        "image = Image.open(image_path)\n",
        "response = model.generate_content([\"Describe this image in detail.\",image])\n",
        "print(response.text)"
      ],
      "metadata": {
        "colab": {
          "base_uri": "https://localhost:8080/",
          "height": 263
        },
        "id": "6VepvqgYDNX0",
        "outputId": "e9d615b5-4aa5-4af2-e21e-5b6460a78e5e"
      },
      "execution_count": 12,
      "outputs": [
        {
          "output_type": "stream",
          "name": "stdout",
          "text": [
            "Here's a description of the image:\n",
            "\n",
            "Close-up view of a woman with shoulder-length, curly brown hair. \n",
            "\n",
            "\n",
            "She's smiling and pointing to her side with her index finger, her arm bent at the elbow. Her expression is friendly and engaging, suggesting she might be making a suggestion or drawing attention to something off-camera.\n",
            "\n",
            "\n",
            "She is wearing a teal blue, three-quarter sleeve top or kurta. The top has a subtle, all-over pattern of small, gold-colored floral or paisley designs. The neckline is a modest, rounded V-neck. \n",
            "\n",
            "\n",
            "The background is a plain, bright white, which keeps the focus entirely on the woman. The overall lighting is soft and even, minimizing harsh shadows. The image appears to be a professionally taken portrait or product shot, possibly for an online store or advertisement.\n",
            "\n"
          ]
        }
      ]
    },
    {
      "cell_type": "code",
      "source": [
        "response = model.generate_content([\"What emotions can you detect in this image?\", image])\n",
        "print(response.text)"
      ],
      "metadata": {
        "colab": {
          "base_uri": "https://localhost:8080/",
          "height": 141
        },
        "id": "YG5r-4afFWJ8",
        "outputId": "a0ebe934-7a64-4ad5-88f1-42e5c92133c0"
      },
      "execution_count": 13,
      "outputs": [
        {
          "output_type": "stream",
          "name": "stdout",
          "text": [
            "The woman in the image appears to be expressing:\n",
            "\n",
            "* **Happiness/Joy:** Her smile is genuine and bright, suggesting a positive emotional state.\n",
            "* **Confidence/Assurance:**  Her posture and direct gaze, combined with her pointing gesture, convey self-assurance.\n",
            "* **Helpfulness/Guidance:** The pointing gesture suggests she is offering information or direction, indicating helpfulness.\n",
            "* **Friendliness/Approachability:** Her overall demeanor seems open and welcoming, suggesting a friendly disposition.\n"
          ]
        }
      ]
    },
    {
      "cell_type": "code",
      "source": [],
      "metadata": {
        "id": "NqS6kQ3RGCXD"
      },
      "execution_count": null,
      "outputs": []
    }
  ]
}