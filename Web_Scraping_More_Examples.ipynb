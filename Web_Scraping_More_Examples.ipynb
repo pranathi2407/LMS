{
  "nbformat": 4,
  "nbformat_minor": 0,
  "metadata": {
    "colab": {
      "provenance": [],
      "authorship_tag": "ABX9TyNMh0iGvFqnKtQGEnnUmkvq"
    },
    "kernelspec": {
      "name": "python3",
      "display_name": "Python 3"
    },
    "language_info": {
      "name": "python"
    }
  },
  "cells": [
    {
      "cell_type": "code",
      "source": [
        "pip install requests beautifulsoup4"
      ],
      "metadata": {
        "colab": {
          "base_uri": "https://localhost:8080/"
        },
        "id": "uZdqUyBoyc7v",
        "outputId": "c14e080f-0842-4180-e6e0-e0070cbb83c4"
      },
      "execution_count": 1,
      "outputs": [
        {
          "output_type": "stream",
          "name": "stdout",
          "text": [
            "Requirement already satisfied: requests in /usr/local/lib/python3.11/dist-packages (2.32.3)\n",
            "Requirement already satisfied: beautifulsoup4 in /usr/local/lib/python3.11/dist-packages (4.13.3)\n",
            "Requirement already satisfied: charset-normalizer<4,>=2 in /usr/local/lib/python3.11/dist-packages (from requests) (3.4.1)\n",
            "Requirement already satisfied: idna<4,>=2.5 in /usr/local/lib/python3.11/dist-packages (from requests) (3.10)\n",
            "Requirement already satisfied: urllib3<3,>=1.21.1 in /usr/local/lib/python3.11/dist-packages (from requests) (2.3.0)\n",
            "Requirement already satisfied: certifi>=2017.4.17 in /usr/local/lib/python3.11/dist-packages (from requests) (2025.1.31)\n",
            "Requirement already satisfied: soupsieve>1.2 in /usr/local/lib/python3.11/dist-packages (from beautifulsoup4) (2.6)\n",
            "Requirement already satisfied: typing-extensions>=4.0.0 in /usr/local/lib/python3.11/dist-packages (from beautifulsoup4) (4.12.2)\n"
          ]
        }
      ]
    },
    {
      "cell_type": "code",
      "execution_count": 3,
      "metadata": {
        "colab": {
          "base_uri": "https://localhost:8080/"
        },
        "id": "DdaOMfaFw4Kl",
        "outputId": "ce5882e4-abd6-44aa-f6db-36773e0719f0"
      },
      "outputs": [
        {
          "output_type": "stream",
          "name": "stdout",
          "text": [
            "1. \"“The world as we have created it is a process of our thinking. It cannot be changed without changing our thinking.”\" - Albert Einstein\n",
            " Tags: change, deep-thoughts, thinking, world\n",
            "\n",
            "2. \"“It is our choices, Harry, that show what we truly are, far more than our abilities.”\" - J.K. Rowling\n",
            " Tags: abilities, choices\n",
            "\n",
            "3. \"“There are only two ways to live your life. One is as though nothing is a miracle. The other is as though everything is a miracle.”\" - Albert Einstein\n",
            " Tags: inspirational, life, live, miracle, miracles\n",
            "\n",
            "4. \"“The person, be it gentleman or lady, who has not pleasure in a good novel, must be intolerably stupid.”\" - Jane Austen\n",
            " Tags: aliteracy, books, classic, humor\n",
            "\n",
            "5. \"“Imperfection is beauty, madness is genius and it's better to be absolutely ridiculous than absolutely boring.”\" - Marilyn Monroe\n",
            " Tags: be-yourself, inspirational\n",
            "\n"
          ]
        }
      ],
      "source": [
        "import requests\n",
        "from bs4 import BeautifulSoup\n",
        "\n",
        "url = \"https://quotes.toscrape.com/\"\n",
        "response = requests.get(url)\n",
        "if response.status_code == 200:\n",
        "    soup = BeautifulSoup(response.text, \"html.parser\")\n",
        "    quotes = soup.find_all(\"div\", class_=\"quote\")\n",
        "\n",
        "    for i, quote in enumerate(quotes[:5]):\n",
        "        text = quote.find(\"span\", class_=\"text\").text\n",
        "\n",
        "        author = quote.find(\"small\", class_=\"author\").text\n",
        "        tags = [tag.text for tag in quote.find_all(\"a\", class_=\"tag\")]\n",
        "        print(f\"{i+1}. \\\"{text}\\\" - {author}\")\n",
        "        print(f\" Tags: {', '.join(tags)}\\n\")\n",
        "else:\n",
        "    print(f\"Failed to retrieve the webpage. Status Code: {response.status_code}\")"
      ]
    },
    {
      "cell_type": "code",
      "source": [
        "import requests\n",
        "from bs4 import BeautifulSoup\n",
        "city=\"india/hyderabad\"\n",
        "url=f\"https://www.timeanddate.com/weather/{city}\"\n",
        "response=requests.get(url)\n",
        "soup=BeautifulSoup(response.text,\"html.parser\")\n",
        "temp=soup.find(\"div\",class_=\"h2\").text.strip() if soup.find(\"div\",class_=\"h2\") else \"N/A\"\n",
        "desc=soup.find(\"p\").text.strip() if soup.find(\"p\") else \"N/A\"\n",
        "print(f\"Current Weather in {city}: {temp} | {desc}\")"
      ],
      "metadata": {
        "colab": {
          "base_uri": "https://localhost:8080/"
        },
        "id": "pWzu5oL9zZ-B",
        "outputId": "0fd22b95-8691-4567-92d5-25af48509fc8"
      },
      "execution_count": 5,
      "outputs": [
        {
          "output_type": "stream",
          "name": "stdout",
          "text": [
            "Current Weather in india/hyderabad: 90 °F | Clear.\n"
          ]
        }
      ]
    },
    {
      "cell_type": "code",
      "source": [
        "#import requests\n",
        "#from bs4 import BeautifulSoup\n",
        "#search_url = \"https://www.amazon.in/s?k=iphone&crid=PQVCJSNISAH4&sprefix=iphone%2Caps%2C233&ref=nb_sb_noss_2s\"\n",
        "#headers = {\n",
        "    #\"User-Agent\": \"Mozilla/5.0 (Windows NT 10.0; Win64; x64) AppleWebKit/537.36 (KHTML, like Gecko) Chrome/58.0.3029.110 Safari/537.36\"\n",
        "#}\n",
        "#response = requests.get(search_url, headers=headers)\n",
        "##soup = BeautifulSoup(response.text, \"html.parser\")\n",
        "#product = soup.select_one(\"span.a-size-medium\")\n",
        "#price = soup.select_one(\"span.a-price-whole\")\n",
        "#if product and price:\n",
        "    #print(f\"Product: {product.text.strip()}\")\n",
        "    #print(f\"Price: Rs. {price.text.strip()}\")\n",
        "#else:\n",
        "  #print(\"Could not find product details.\")"
      ],
      "metadata": {
        "colab": {
          "base_uri": "https://localhost:8080/"
        },
        "id": "5ZHVtcWg2CEc",
        "outputId": "4a798670-2ec3-487d-d969-3be7efe80f16"
      },
      "execution_count": 10,
      "outputs": [
        {
          "output_type": "stream",
          "name": "stdout",
          "text": [
            "Could not find product details.\n"
          ]
        }
      ]
    },
    {
      "cell_type": "code",
      "source": [
        "import requests\n",
        "from bs4 import BeautifulSoup\n",
        "search_url = \"https://www.amazon.in/s?k=iphone&crid=PQVCJSNISAH4&sprefix=iphone%2Caps%2C233&ref=nb_sb_noss_2s\"\n",
        "headers = {\n",
        "    \"User-Agent\": \"Mozilla/5.0 (Windows NT 10.0; Win64; x64) AppleWebKit/537.36 (KHTML, like Gecko) Chrome/91.0.4472.124 Safari/537.36\"\n",
        "}\n",
        "response = requests.get(search_url, headers=headers)\n",
        "soup = BeautifulSoup(response.text, \"html.parser\")\n",
        "product = soup.select_one(\"span.a-size-medium\")\n",
        "price = soup.select_one(\"span.a-price-whole\")\n",
        "if product and price:\n",
        "    print(f\"Product: {product.text.strip()}\")\n",
        "    print(f\"Price: Rs. {price.text.strip()}\")\n",
        "else:\n",
        "  print(\"Could not find product details.\")"
      ],
      "metadata": {
        "colab": {
          "base_uri": "https://localhost:8080/"
        },
        "id": "H0EVg9ed3-Lq",
        "outputId": "06305064-f2aa-4fa9-a2b5-33ca07057f65"
      },
      "execution_count": 11,
      "outputs": [
        {
          "output_type": "stream",
          "name": "stdout",
          "text": [
            "Could not find product details.\n"
          ]
        }
      ]
    },
    {
      "cell_type": "code",
      "source": [
        "import requests\n",
        "from bs4 import BeautifulSoup\n",
        "url = \"https://en.wikipedia.org/wiki/List_of_countries_and_dependencies_by_population\"\n",
        "response = requests.get(url,headers=headers)\n",
        "soup = BeautifulSoup(response.text, \"html.parser\")\n",
        "table = soup.find(\"table\", class_=\"wikitable\")\n",
        "\n",
        "for row in table.find_all(\"tr\")[1:6]:\n",
        "    columns = row.find_all(\"td\")\n",
        "    country = columns[1].text.strip()\n",
        "    population = columns[2].text.strip()\n",
        "    print(f\"{country}: {population}\")"
      ],
      "metadata": {
        "colab": {
          "base_uri": "https://localhost:8080/"
        },
        "id": "kS1AvnDz5FH5",
        "outputId": "c83b8534-e181-4e1e-ecc9-3d1fb786bd25"
      },
      "execution_count": 12,
      "outputs": [
        {
          "output_type": "stream",
          "name": "stdout",
          "text": [
            "World: 8,119,000,000\n",
            "China: 1,408,280,000\n",
            "1,402,737,000: 17.2%\n",
            "United States: 340,110,988\n",
            "Indonesia: 282,477,584\n"
          ]
        }
      ]
    },
    {
      "cell_type": "markdown",
      "source": [
        "Displaying HTML Page"
      ],
      "metadata": {
        "id": "YXAuu7Nl6-kl"
      }
    },
    {
      "cell_type": "code",
      "source": [
        "from IPython.display import display, HTML"
      ],
      "metadata": {
        "id": "FGb-S7CP6ITJ"
      },
      "execution_count": 13,
      "outputs": []
    },
    {
      "cell_type": "code",
      "source": [
        "display(HTML(\"\"\"\n",
        "<p style=\"font-family:verdana\">This is a sample table</p>\n",
        "<table style=\"width:100%\">\n",
        "  <tr>\n",
        "    <th>Company</th>\n",
        "    <th>Contact</th>\n",
        "    <th>Country</th>\n",
        "  </tr>\n",
        "  <tr>\n",
        "    <td>Alfreds Futterkiste</td>\n",
        "    <td>Maria Anders</td>\n",
        "    <td>Germany</td>\n",
        "  </tr>\n",
        "  <tr>\n",
        "    <td>Centro comercial Moctezuma</td>\n",
        "    <td>Francisco Chang</td>\n",
        "    <td>Mexico</td>\n",
        "  </tr>\n",
        "</table>\n",
        "\"\"\"))"
      ],
      "metadata": {
        "colab": {
          "base_uri": "https://localhost:8080/",
          "height": 110
        },
        "id": "ozyT_am57Fq8",
        "outputId": "48ff5bfe-8046-4481-b717-a20b75b893df"
      },
      "execution_count": 17,
      "outputs": [
        {
          "output_type": "display_data",
          "data": {
            "text/plain": [
              "<IPython.core.display.HTML object>"
            ],
            "text/html": [
              "\n",
              "<p style=\"font-family:verdana\">This is a sample table</p>\n",
              "<table style=\"width:100%\">\n",
              "  <tr>\n",
              "    <th>Company</th>\n",
              "    <th>Contact</th>\n",
              "    <th>Country</th>\n",
              "  </tr>\n",
              "  <tr>\n",
              "    <td>Alfreds Futterkiste</td>\n",
              "    <td>Maria Anders</td>\n",
              "    <td>Germany</td>\n",
              "  </tr>\n",
              "  <tr>\n",
              "    <td>Centro comercial Moctezuma</td>\n",
              "    <td>Francisco Chang</td>\n",
              "    <td>Mexico</td>\n",
              "  </tr>\n",
              "</table>\n"
            ]
          },
          "metadata": {}
        }
      ]
    },
    {
      "cell_type": "code",
      "source": [],
      "metadata": {
        "id": "nN5j_pIR761p"
      },
      "execution_count": null,
      "outputs": []
    }
  ]
}